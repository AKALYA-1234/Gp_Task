{
 "cells": [
  {
   "cell_type": "code",
   "execution_count": null,
   "id": "53ba8621-92e3-4c81-9843-56cf6dd7e1cd",
   "metadata": {},
   "outputs": [],
   "source": [
    "1.Basic Data Understanding (Pandas):"
   ]
  },
  {
   "cell_type": "code",
   "execution_count": 115,
   "id": "08d02772-40b8-47e9-8dac-5fb5e22abd4b",
   "metadata": {},
   "outputs": [],
   "source": [
    "import pandas as pd\n",
    "import numpy as np\n",
    "import matplotlib.pyplot as plt\n",
    "df=pd.read_csv(\"C:/Users/DELL/Downloads/Indian_Kids_Screen_Time.csv\")"
   ]
  },
  {
   "cell_type": "code",
   "execution_count": 116,
   "id": "f938be86-45dc-403d-8315-f7f32f988c5b",
   "metadata": {},
   "outputs": [
    {
     "data": {
      "text/html": [
       "<div>\n",
       "<style scoped>\n",
       "    .dataframe tbody tr th:only-of-type {\n",
       "        vertical-align: middle;\n",
       "    }\n",
       "\n",
       "    .dataframe tbody tr th {\n",
       "        vertical-align: top;\n",
       "    }\n",
       "\n",
       "    .dataframe thead th {\n",
       "        text-align: right;\n",
       "    }\n",
       "</style>\n",
       "<table border=\"1\" class=\"dataframe\">\n",
       "  <thead>\n",
       "    <tr style=\"text-align: right;\">\n",
       "      <th></th>\n",
       "      <th>Age</th>\n",
       "      <th>Gender</th>\n",
       "      <th>Avg_Daily_Screen_Time_hr</th>\n",
       "      <th>Primary_Device</th>\n",
       "      <th>Exceeded_Recommended_Limit</th>\n",
       "      <th>Educational_to_Recreational_Ratio</th>\n",
       "      <th>Health_Impacts</th>\n",
       "      <th>Urban_or_Rural</th>\n",
       "    </tr>\n",
       "  </thead>\n",
       "  <tbody>\n",
       "    <tr>\n",
       "      <th>0</th>\n",
       "      <td>14</td>\n",
       "      <td>Male</td>\n",
       "      <td>3.99</td>\n",
       "      <td>Smartphone</td>\n",
       "      <td>True</td>\n",
       "      <td>0.42</td>\n",
       "      <td>Poor Sleep, Eye Strain</td>\n",
       "      <td>Urban</td>\n",
       "    </tr>\n",
       "    <tr>\n",
       "      <th>1</th>\n",
       "      <td>11</td>\n",
       "      <td>Female</td>\n",
       "      <td>4.61</td>\n",
       "      <td>Laptop</td>\n",
       "      <td>True</td>\n",
       "      <td>0.30</td>\n",
       "      <td>Poor Sleep</td>\n",
       "      <td>Urban</td>\n",
       "    </tr>\n",
       "    <tr>\n",
       "      <th>2</th>\n",
       "      <td>18</td>\n",
       "      <td>Female</td>\n",
       "      <td>3.73</td>\n",
       "      <td>TV</td>\n",
       "      <td>True</td>\n",
       "      <td>0.32</td>\n",
       "      <td>Poor Sleep</td>\n",
       "      <td>Urban</td>\n",
       "    </tr>\n",
       "    <tr>\n",
       "      <th>3</th>\n",
       "      <td>15</td>\n",
       "      <td>Female</td>\n",
       "      <td>1.21</td>\n",
       "      <td>Laptop</td>\n",
       "      <td>False</td>\n",
       "      <td>0.39</td>\n",
       "      <td>NaN</td>\n",
       "      <td>Urban</td>\n",
       "    </tr>\n",
       "    <tr>\n",
       "      <th>4</th>\n",
       "      <td>12</td>\n",
       "      <td>Female</td>\n",
       "      <td>5.89</td>\n",
       "      <td>Smartphone</td>\n",
       "      <td>True</td>\n",
       "      <td>0.49</td>\n",
       "      <td>Poor Sleep, Anxiety</td>\n",
       "      <td>Urban</td>\n",
       "    </tr>\n",
       "  </tbody>\n",
       "</table>\n",
       "</div>"
      ],
      "text/plain": [
       "   Age  Gender  Avg_Daily_Screen_Time_hr Primary_Device  \\\n",
       "0   14    Male                      3.99     Smartphone   \n",
       "1   11  Female                      4.61         Laptop   \n",
       "2   18  Female                      3.73             TV   \n",
       "3   15  Female                      1.21         Laptop   \n",
       "4   12  Female                      5.89     Smartphone   \n",
       "\n",
       "   Exceeded_Recommended_Limit  Educational_to_Recreational_Ratio  \\\n",
       "0                        True                               0.42   \n",
       "1                        True                               0.30   \n",
       "2                        True                               0.32   \n",
       "3                       False                               0.39   \n",
       "4                        True                               0.49   \n",
       "\n",
       "           Health_Impacts Urban_or_Rural  \n",
       "0  Poor Sleep, Eye Strain          Urban  \n",
       "1              Poor Sleep          Urban  \n",
       "2              Poor Sleep          Urban  \n",
       "3                     NaN          Urban  \n",
       "4     Poor Sleep, Anxiety          Urban  "
      ]
     },
     "execution_count": 116,
     "metadata": {},
     "output_type": "execute_result"
    }
   ],
   "source": [
    "df.head()  #Displaying the first 10 rows."
   ]
  },
  {
   "cell_type": "code",
   "execution_count": 117,
   "id": "3dfb690f-3791-4919-8a30-4fe038b77959",
   "metadata": {},
   "outputs": [
    {
     "name": "stdout",
     "output_type": "stream",
     "text": [
      "Shape: (9712, 8)\n",
      "Columns: Index(['Age', 'Gender', 'Avg_Daily_Screen_Time_hr', 'Primary_Device',\n",
      "       'Exceeded_Recommended_Limit', 'Educational_to_Recreational_Ratio',\n",
      "       'Health_Impacts', 'Urban_or_Rural'],\n",
      "      dtype='object')\n",
      "Data type: Age                                    int64\n",
      "Gender                                object\n",
      "Avg_Daily_Screen_Time_hr             float64\n",
      "Primary_Device                        object\n",
      "Exceeded_Recommended_Limit              bool\n",
      "Educational_to_Recreational_Ratio    float64\n",
      "Health_Impacts                        object\n",
      "Urban_or_Rural                        object\n",
      "dtype: object\n"
     ]
    }
   ],
   "source": [
    "print(\"Shape:\",df.shape) #print shape of the dataset\n",
    "print(\"Columns:\",df.columns) #print column name\n",
    "print(\"Data type:\",df.dtypes)  #print data types"
   ]
  },
  {
   "cell_type": "code",
   "execution_count": 118,
   "id": "1f781c75-0214-48a9-954b-cdf5c305ceb5",
   "metadata": {},
   "outputs": [
    {
     "name": "stdout",
     "output_type": "stream",
     "text": [
      "Age                                     0\n",
      "Gender                                  0\n",
      "Avg_Daily_Screen_Time_hr                0\n",
      "Primary_Device                          0\n",
      "Exceeded_Recommended_Limit              0\n",
      "Educational_to_Recreational_Ratio       0\n",
      "Health_Impacts                       3218\n",
      "Urban_or_Rural                          0\n",
      "dtype: int64\n"
     ]
    }
   ],
   "source": [
    "print(df.isnull().sum()) #count missing values"
   ]
  },
  {
   "cell_type": "code",
   "execution_count": 119,
   "id": "14f0b568-7a99-456a-9614-f248fbbeed18",
   "metadata": {},
   "outputs": [
    {
     "name": "stdout",
     "output_type": "stream",
     "text": [
      "44\n"
     ]
    }
   ],
   "source": [
    "print(df.duplicated().sum())  #count the duplicates"
   ]
  },
  {
   "cell_type": "code",
   "execution_count": 120,
   "id": "e650c9bb-6750-453b-a2f2-02d0f888bea5",
   "metadata": {},
   "outputs": [
    {
     "name": "stdout",
     "output_type": "stream",
     "text": [
      "Gender\n",
      "Male      4942\n",
      "Female    4770\n",
      "Name: count, dtype: int64\n"
     ]
    }
   ],
   "source": [
    "Gender_count=df['Gender'].value_counts()\n",
    "print(Gender_count)"
   ]
  },
  {
   "cell_type": "code",
   "execution_count": 121,
   "id": "cad70956-0546-4d2c-8b8f-aeb502c0acc3",
   "metadata": {},
   "outputs": [
    {
     "name": "stdout",
     "output_type": "stream",
     "text": [
      "Urban_or_Rural\n",
      "Urban    6851\n",
      "Rural    2861\n",
      "Name: count, dtype: int64\n"
     ]
    }
   ],
   "source": [
    "Urban_Rural_count=df['Urban_or_Rural'].value_counts()\n",
    "print(Urban_Rural_count)"
   ]
  },
  {
   "cell_type": "code",
   "execution_count": 122,
   "id": "298f50cb-3cba-4e75-97aa-a6a3277a454d",
   "metadata": {},
   "outputs": [
    {
     "data": {
      "text/html": [
       "<div>\n",
       "<style scoped>\n",
       "    .dataframe tbody tr th:only-of-type {\n",
       "        vertical-align: middle;\n",
       "    }\n",
       "\n",
       "    .dataframe tbody tr th {\n",
       "        vertical-align: top;\n",
       "    }\n",
       "\n",
       "    .dataframe thead th {\n",
       "        text-align: right;\n",
       "    }\n",
       "</style>\n",
       "<table border=\"1\" class=\"dataframe\">\n",
       "  <thead>\n",
       "    <tr style=\"text-align: right;\">\n",
       "      <th></th>\n",
       "      <th>Age</th>\n",
       "      <th>Avg_Daily_Screen_Time_hr</th>\n",
       "      <th>Educational_to_Recreational_Ratio</th>\n",
       "    </tr>\n",
       "  </thead>\n",
       "  <tbody>\n",
       "    <tr>\n",
       "      <th>count</th>\n",
       "      <td>9712.000000</td>\n",
       "      <td>9712.000000</td>\n",
       "      <td>9712.000000</td>\n",
       "    </tr>\n",
       "    <tr>\n",
       "      <th>mean</th>\n",
       "      <td>12.979201</td>\n",
       "      <td>4.352837</td>\n",
       "      <td>0.427226</td>\n",
       "    </tr>\n",
       "    <tr>\n",
       "      <th>std</th>\n",
       "      <td>3.162437</td>\n",
       "      <td>1.718232</td>\n",
       "      <td>0.073221</td>\n",
       "    </tr>\n",
       "    <tr>\n",
       "      <th>min</th>\n",
       "      <td>8.000000</td>\n",
       "      <td>0.000000</td>\n",
       "      <td>0.300000</td>\n",
       "    </tr>\n",
       "    <tr>\n",
       "      <th>25%</th>\n",
       "      <td>10.000000</td>\n",
       "      <td>3.410000</td>\n",
       "      <td>0.370000</td>\n",
       "    </tr>\n",
       "    <tr>\n",
       "      <th>50%</th>\n",
       "      <td>13.000000</td>\n",
       "      <td>4.440000</td>\n",
       "      <td>0.430000</td>\n",
       "    </tr>\n",
       "    <tr>\n",
       "      <th>75%</th>\n",
       "      <td>16.000000</td>\n",
       "      <td>5.380000</td>\n",
       "      <td>0.480000</td>\n",
       "    </tr>\n",
       "    <tr>\n",
       "      <th>max</th>\n",
       "      <td>18.000000</td>\n",
       "      <td>13.890000</td>\n",
       "      <td>0.600000</td>\n",
       "    </tr>\n",
       "  </tbody>\n",
       "</table>\n",
       "</div>"
      ],
      "text/plain": [
       "               Age  Avg_Daily_Screen_Time_hr  \\\n",
       "count  9712.000000               9712.000000   \n",
       "mean     12.979201                  4.352837   \n",
       "std       3.162437                  1.718232   \n",
       "min       8.000000                  0.000000   \n",
       "25%      10.000000                  3.410000   \n",
       "50%      13.000000                  4.440000   \n",
       "75%      16.000000                  5.380000   \n",
       "max      18.000000                 13.890000   \n",
       "\n",
       "       Educational_to_Recreational_Ratio  \n",
       "count                        9712.000000  \n",
       "mean                            0.427226  \n",
       "std                             0.073221  \n",
       "min                             0.300000  \n",
       "25%                             0.370000  \n",
       "50%                             0.430000  \n",
       "75%                             0.480000  \n",
       "max                             0.600000  "
      ]
     },
     "execution_count": 122,
     "metadata": {},
     "output_type": "execute_result"
    }
   ],
   "source": [
    "df.describe()"
   ]
  },
  {
   "cell_type": "markdown",
   "id": "49acbc28-739b-4b46-9127-2a7ff4feac87",
   "metadata": {},
   "source": [
    "2.Data cleaning:"
   ]
  },
  {
   "cell_type": "code",
   "execution_count": 123,
   "id": "ad30770f-c254-43b5-aecc-d496cf7028b6",
   "metadata": {},
   "outputs": [
    {
     "data": {
      "text/html": [
       "<div>\n",
       "<style scoped>\n",
       "    .dataframe tbody tr th:only-of-type {\n",
       "        vertical-align: middle;\n",
       "    }\n",
       "\n",
       "    .dataframe tbody tr th {\n",
       "        vertical-align: top;\n",
       "    }\n",
       "\n",
       "    .dataframe thead th {\n",
       "        text-align: right;\n",
       "    }\n",
       "</style>\n",
       "<table border=\"1\" class=\"dataframe\">\n",
       "  <thead>\n",
       "    <tr style=\"text-align: right;\">\n",
       "      <th></th>\n",
       "      <th>Age</th>\n",
       "      <th>Gender</th>\n",
       "      <th>Avg_Daily_Screen_Time_hr</th>\n",
       "      <th>Primary_Device</th>\n",
       "      <th>Exceeded_Recommended_Limit</th>\n",
       "      <th>Educational_to_Recreational_Ratio</th>\n",
       "      <th>Health_Impacts</th>\n",
       "      <th>Urban_or_Rural</th>\n",
       "      <th>limits</th>\n",
       "    </tr>\n",
       "  </thead>\n",
       "  <tbody>\n",
       "    <tr>\n",
       "      <th>0</th>\n",
       "      <td>14</td>\n",
       "      <td>Male</td>\n",
       "      <td>3.99</td>\n",
       "      <td>Smartphone</td>\n",
       "      <td>True</td>\n",
       "      <td>0.42</td>\n",
       "      <td>Poor Sleep, Eye Strain</td>\n",
       "      <td>Urban</td>\n",
       "      <td>1</td>\n",
       "    </tr>\n",
       "    <tr>\n",
       "      <th>1</th>\n",
       "      <td>11</td>\n",
       "      <td>Female</td>\n",
       "      <td>4.61</td>\n",
       "      <td>Laptop</td>\n",
       "      <td>True</td>\n",
       "      <td>0.30</td>\n",
       "      <td>Poor Sleep</td>\n",
       "      <td>Urban</td>\n",
       "      <td>1</td>\n",
       "    </tr>\n",
       "    <tr>\n",
       "      <th>2</th>\n",
       "      <td>18</td>\n",
       "      <td>Female</td>\n",
       "      <td>3.73</td>\n",
       "      <td>TV</td>\n",
       "      <td>True</td>\n",
       "      <td>0.32</td>\n",
       "      <td>Poor Sleep</td>\n",
       "      <td>Urban</td>\n",
       "      <td>1</td>\n",
       "    </tr>\n",
       "    <tr>\n",
       "      <th>3</th>\n",
       "      <td>15</td>\n",
       "      <td>Female</td>\n",
       "      <td>1.21</td>\n",
       "      <td>Laptop</td>\n",
       "      <td>False</td>\n",
       "      <td>0.39</td>\n",
       "      <td>NaN</td>\n",
       "      <td>Urban</td>\n",
       "      <td>0</td>\n",
       "    </tr>\n",
       "    <tr>\n",
       "      <th>4</th>\n",
       "      <td>12</td>\n",
       "      <td>Female</td>\n",
       "      <td>5.89</td>\n",
       "      <td>Smartphone</td>\n",
       "      <td>True</td>\n",
       "      <td>0.49</td>\n",
       "      <td>Poor Sleep, Anxiety</td>\n",
       "      <td>Urban</td>\n",
       "      <td>1</td>\n",
       "    </tr>\n",
       "  </tbody>\n",
       "</table>\n",
       "</div>"
      ],
      "text/plain": [
       "   Age  Gender  Avg_Daily_Screen_Time_hr Primary_Device  \\\n",
       "0   14    Male                      3.99     Smartphone   \n",
       "1   11  Female                      4.61         Laptop   \n",
       "2   18  Female                      3.73             TV   \n",
       "3   15  Female                      1.21         Laptop   \n",
       "4   12  Female                      5.89     Smartphone   \n",
       "\n",
       "   Exceeded_Recommended_Limit  Educational_to_Recreational_Ratio  \\\n",
       "0                        True                               0.42   \n",
       "1                        True                               0.30   \n",
       "2                        True                               0.32   \n",
       "3                       False                               0.39   \n",
       "4                        True                               0.49   \n",
       "\n",
       "           Health_Impacts Urban_or_Rural  limits  \n",
       "0  Poor Sleep, Eye Strain          Urban       1  \n",
       "1              Poor Sleep          Urban       1  \n",
       "2              Poor Sleep          Urban       1  \n",
       "3                     NaN          Urban       0  \n",
       "4     Poor Sleep, Anxiety          Urban       1  "
      ]
     },
     "execution_count": 123,
     "metadata": {},
     "output_type": "execute_result"
    }
   ],
   "source": [
    "df['limits']=df['Exceeded_Recommended_Limit'].map({True:1,False:0}) #convert Exceeded_Recommended_Limit into numeric (1 for True, 0 for False)\n",
    "df.head()"
   ]
  },
  {
   "cell_type": "code",
   "execution_count": 124,
   "id": "3c31742a-e0d0-40bf-9dc0-9bcd61defc95",
   "metadata": {},
   "outputs": [],
   "source": [
    "# Replace missing categorical values with 'Unknown'\n",
    "df = df.fillna({'Gender': 'Unknown'})"
   ]
  },
  {
   "cell_type": "code",
   "execution_count": 125,
   "id": "63c137fb-d3b2-4811-9b9b-0e4fde167d9e",
   "metadata": {},
   "outputs": [],
   "source": [
    "if 'ScreenTime' in df.columns:\n",
    "    df = df[df['ScreenTime'] <= 0]\n",
    "if 'Age' in df.columns:\n",
    "    df = df[df['Age'] <= 0]"
   ]
  },
  {
   "cell_type": "code",
   "execution_count": 126,
   "id": "2c60182c-a2ec-4aff-8d39-24993cbc378e",
   "metadata": {},
   "outputs": [],
   "source": [
    "# Reset index\n",
    "df = df.reset_index(drop=True)"
   ]
  },
  {
   "cell_type": "code",
   "execution_count": 127,
   "id": "55cdb431-60d9-44c8-b26d-b3b8a5e550f9",
   "metadata": {},
   "outputs": [
    {
     "data": {
      "text/html": [
       "<div>\n",
       "<style scoped>\n",
       "    .dataframe tbody tr th:only-of-type {\n",
       "        vertical-align: middle;\n",
       "    }\n",
       "\n",
       "    .dataframe tbody tr th {\n",
       "        vertical-align: top;\n",
       "    }\n",
       "\n",
       "    .dataframe thead th {\n",
       "        text-align: right;\n",
       "    }\n",
       "</style>\n",
       "<table border=\"1\" class=\"dataframe\">\n",
       "  <thead>\n",
       "    <tr style=\"text-align: right;\">\n",
       "      <th></th>\n",
       "      <th>Age</th>\n",
       "      <th>Gender</th>\n",
       "      <th>Avg_Daily_Screen_Time_hr</th>\n",
       "      <th>Primary_Device</th>\n",
       "      <th>Exceeded_Recommended_Limit</th>\n",
       "      <th>Educational_to_Recreational_Ratio</th>\n",
       "      <th>Health_Impacts</th>\n",
       "      <th>Urban_or_Rural</th>\n",
       "      <th>Gender_convert</th>\n",
       "    </tr>\n",
       "  </thead>\n",
       "  <tbody>\n",
       "    <tr>\n",
       "      <th>0</th>\n",
       "      <td>14</td>\n",
       "      <td>Male</td>\n",
       "      <td>3.99</td>\n",
       "      <td>Smartphone</td>\n",
       "      <td>True</td>\n",
       "      <td>0.42</td>\n",
       "      <td>Poor Sleep, Eye Strain</td>\n",
       "      <td>Urban</td>\n",
       "      <td>M</td>\n",
       "    </tr>\n",
       "    <tr>\n",
       "      <th>1</th>\n",
       "      <td>11</td>\n",
       "      <td>Female</td>\n",
       "      <td>4.61</td>\n",
       "      <td>Laptop</td>\n",
       "      <td>True</td>\n",
       "      <td>0.30</td>\n",
       "      <td>Poor Sleep</td>\n",
       "      <td>Urban</td>\n",
       "      <td>F</td>\n",
       "    </tr>\n",
       "    <tr>\n",
       "      <th>2</th>\n",
       "      <td>18</td>\n",
       "      <td>Female</td>\n",
       "      <td>3.73</td>\n",
       "      <td>TV</td>\n",
       "      <td>True</td>\n",
       "      <td>0.32</td>\n",
       "      <td>Poor Sleep</td>\n",
       "      <td>Urban</td>\n",
       "      <td>F</td>\n",
       "    </tr>\n",
       "    <tr>\n",
       "      <th>3</th>\n",
       "      <td>15</td>\n",
       "      <td>Female</td>\n",
       "      <td>1.21</td>\n",
       "      <td>Laptop</td>\n",
       "      <td>False</td>\n",
       "      <td>0.39</td>\n",
       "      <td>NaN</td>\n",
       "      <td>Urban</td>\n",
       "      <td>F</td>\n",
       "    </tr>\n",
       "    <tr>\n",
       "      <th>4</th>\n",
       "      <td>12</td>\n",
       "      <td>Female</td>\n",
       "      <td>5.89</td>\n",
       "      <td>Smartphone</td>\n",
       "      <td>True</td>\n",
       "      <td>0.49</td>\n",
       "      <td>Poor Sleep, Anxiety</td>\n",
       "      <td>Urban</td>\n",
       "      <td>F</td>\n",
       "    </tr>\n",
       "    <tr>\n",
       "      <th>5</th>\n",
       "      <td>14</td>\n",
       "      <td>Female</td>\n",
       "      <td>4.88</td>\n",
       "      <td>Smartphone</td>\n",
       "      <td>True</td>\n",
       "      <td>0.44</td>\n",
       "      <td>Poor Sleep</td>\n",
       "      <td>Urban</td>\n",
       "      <td>F</td>\n",
       "    </tr>\n",
       "    <tr>\n",
       "      <th>6</th>\n",
       "      <td>17</td>\n",
       "      <td>Male</td>\n",
       "      <td>2.97</td>\n",
       "      <td>TV</td>\n",
       "      <td>False</td>\n",
       "      <td>0.48</td>\n",
       "      <td>NaN</td>\n",
       "      <td>Rural</td>\n",
       "      <td>M</td>\n",
       "    </tr>\n",
       "    <tr>\n",
       "      <th>7</th>\n",
       "      <td>10</td>\n",
       "      <td>Male</td>\n",
       "      <td>2.74</td>\n",
       "      <td>TV</td>\n",
       "      <td>True</td>\n",
       "      <td>0.54</td>\n",
       "      <td>NaN</td>\n",
       "      <td>Urban</td>\n",
       "      <td>M</td>\n",
       "    </tr>\n",
       "    <tr>\n",
       "      <th>8</th>\n",
       "      <td>14</td>\n",
       "      <td>Male</td>\n",
       "      <td>4.61</td>\n",
       "      <td>Laptop</td>\n",
       "      <td>True</td>\n",
       "      <td>0.36</td>\n",
       "      <td>Poor Sleep, Anxiety</td>\n",
       "      <td>Rural</td>\n",
       "      <td>M</td>\n",
       "    </tr>\n",
       "    <tr>\n",
       "      <th>9</th>\n",
       "      <td>18</td>\n",
       "      <td>Male</td>\n",
       "      <td>3.24</td>\n",
       "      <td>Tablet</td>\n",
       "      <td>True</td>\n",
       "      <td>0.48</td>\n",
       "      <td>Poor Sleep, Obesity Risk</td>\n",
       "      <td>Urban</td>\n",
       "      <td>M</td>\n",
       "    </tr>\n",
       "  </tbody>\n",
       "</table>\n",
       "</div>"
      ],
      "text/plain": [
       "   Age  Gender  Avg_Daily_Screen_Time_hr Primary_Device  \\\n",
       "0   14    Male                      3.99     Smartphone   \n",
       "1   11  Female                      4.61         Laptop   \n",
       "2   18  Female                      3.73             TV   \n",
       "3   15  Female                      1.21         Laptop   \n",
       "4   12  Female                      5.89     Smartphone   \n",
       "5   14  Female                      4.88     Smartphone   \n",
       "6   17    Male                      2.97             TV   \n",
       "7   10    Male                      2.74             TV   \n",
       "8   14    Male                      4.61         Laptop   \n",
       "9   18    Male                      3.24         Tablet   \n",
       "\n",
       "   Exceeded_Recommended_Limit  Educational_to_Recreational_Ratio  \\\n",
       "0                        True                               0.42   \n",
       "1                        True                               0.30   \n",
       "2                        True                               0.32   \n",
       "3                       False                               0.39   \n",
       "4                        True                               0.49   \n",
       "5                        True                               0.44   \n",
       "6                       False                               0.48   \n",
       "7                        True                               0.54   \n",
       "8                        True                               0.36   \n",
       "9                        True                               0.48   \n",
       "\n",
       "             Health_Impacts Urban_or_Rural Gender_convert  \n",
       "0    Poor Sleep, Eye Strain          Urban              M  \n",
       "1                Poor Sleep          Urban              F  \n",
       "2                Poor Sleep          Urban              F  \n",
       "3                       NaN          Urban              F  \n",
       "4       Poor Sleep, Anxiety          Urban              F  \n",
       "5                Poor Sleep          Urban              F  \n",
       "6                       NaN          Rural              M  \n",
       "7                       NaN          Urban              M  \n",
       "8       Poor Sleep, Anxiety          Rural              M  \n",
       "9  Poor Sleep, Obesity Risk          Urban              M  "
      ]
     },
     "execution_count": 127,
     "metadata": {},
     "output_type": "execute_result"
    }
   ],
   "source": [
    "df=pd.read_csv(r'c:\\Users\\DELL\\Downloads\\Indian_Kids_Screen_Time.csv',encoding='latin1')\n",
    "df['Gender_convert']=df['Gender'].map({'Male':'M','Female':'F'}) #convert Gender into numeric (M for Male, F for Female)\n",
    "df.head(10)"
   ]
  },
  {
   "cell_type": "code",
   "execution_count": 128,
   "id": "8e7f60fa-4fbf-42dc-8f05-0857f05f95ce",
   "metadata": {},
   "outputs": [
    {
     "name": "stdout",
     "output_type": "stream",
     "text": [
      "      Age  Gender  Avg_Daily_Screen_Time_hr Primary_Device  \\\n",
      "19      9  Female                      0.00             TV   \n",
      "22      9  Female                      1.63         Tablet   \n",
      "24      8    Male                      3.19         Tablet   \n",
      "28      8    Male                      0.31     Smartphone   \n",
      "43      9    Male                      7.61             TV   \n",
      "...   ...     ...                       ...            ...   \n",
      "9691    8  Female                      2.26             TV   \n",
      "9703    9    Male                      6.62     Smartphone   \n",
      "9704    8  Female                      4.23             TV   \n",
      "9705    9  Female                      8.07             TV   \n",
      "9706    8    Male                      4.84     Smartphone   \n",
      "\n",
      "      Exceeded_Recommended_Limit  Educational_to_Recreational_Ratio  \\\n",
      "19                         False                               0.42   \n",
      "22                         False                               0.58   \n",
      "24                          True                               0.54   \n",
      "28                         False                               0.51   \n",
      "43                          True                               0.50   \n",
      "...                          ...                                ...   \n",
      "9691                        True                               0.59   \n",
      "9703                        True                               0.48   \n",
      "9704                        True                               0.51   \n",
      "9705                        True                               0.53   \n",
      "9706                        True                               0.55   \n",
      "\n",
      "                         Health_Impacts Urban_or_Rural Gender_convert  \n",
      "19                                  NaN          Urban              F  \n",
      "22                                  NaN          Urban              F  \n",
      "24    Poor Sleep, Anxiety, Obesity Risk          Urban              M  \n",
      "28                                  NaN          Urban              M  \n",
      "43                           Poor Sleep          Urban              M  \n",
      "...                                 ...            ...            ...  \n",
      "9691                                NaN          Urban              F  \n",
      "9703                         Poor Sleep          Rural              M  \n",
      "9704                         Eye Strain          Urban              F  \n",
      "9705  Poor Sleep, Anxiety, Obesity Risk          Urban              F  \n",
      "9706                                NaN          Rural              M  \n",
      "\n",
      "[1797 rows x 9 columns]\n"
     ]
    }
   ],
   "source": [
    "print(df[df['Age']<10])  #print the kids age is lessthen 10"
   ]
  },
  {
   "cell_type": "code",
   "execution_count": 129,
   "id": "66bc5583-469c-43c9-bc8e-80f0be79ec96",
   "metadata": {},
   "outputs": [
    {
     "name": "stdout",
     "output_type": "stream",
     "text": [
      "1797\n"
     ]
    }
   ],
   "source": [
    "a=(df['Age']<10).sum() #count the age is lessthan 10\n",
    "print(a)"
   ]
  },
  {
   "cell_type": "code",
   "execution_count": 130,
   "id": "7a8dccb1-a20b-4ffb-85d4-bd41b16ad348",
   "metadata": {},
   "outputs": [
    {
     "name": "stdout",
     "output_type": "stream",
     "text": [
      "   Avg_Daily_Screen_Time_hr Screen_Time_Category\n",
      "0                      3.99             Moderate\n",
      "1                      4.61             Moderate\n",
      "2                      3.73             Moderate\n",
      "3                      1.21                  Low\n",
      "4                      5.89             Moderate\n",
      "5                      4.88             Moderate\n",
      "6                      2.97                  Low\n",
      "7                      2.74                  Low\n",
      "8                      4.61             Moderate\n",
      "9                      3.24             Moderate\n"
     ]
    }
   ],
   "source": [
    "# Function to assign category\n",
    "def categorize_screen_time(hours):\n",
    "    if 1 <= hours < 3:\n",
    "        return \"Low\"\n",
    "    elif 3 <= hours < 6:\n",
    "        return \"Moderate\"\n",
    "    elif 6 <= hours <= 10:\n",
    "        return \"High\"\n",
    "    else:\n",
    "        return \"Other\"   # for values outside 1–10\n",
    "\n",
    "# Apply function to create new column\n",
    "df['Screen_Time_Category'] = df['Avg_Daily_Screen_Time_hr'].apply(categorize_screen_time)\n",
    "\n",
    "print(df[['Avg_Daily_Screen_Time_hr', 'Screen_Time_Category']].head(10))"
   ]
  },
  {
   "cell_type": "code",
   "execution_count": null,
   "id": "dc207674-deab-4a0c-9250-71f3862bb320",
   "metadata": {},
   "outputs": [],
   "source": [
    "3. Exploratory Data Analysis (EDA):"
   ]
  },
  {
   "cell_type": "code",
   "execution_count": 131,
   "id": "020e35c2-9595-4dd5-be3f-ea6f5f80936b",
   "metadata": {},
   "outputs": [
    {
     "name": "stdout",
     "output_type": "stream",
     "text": [
      "9712\n"
     ]
    }
   ],
   "source": [
    "total_kids=df.shape[0] #count total number of kids\n",
    "print(total_kids)"
   ]
  },
  {
   "cell_type": "code",
   "execution_count": 132,
   "id": "112ca7cf-dba7-4a24-8a41-f7d8ea82d58f",
   "metadata": {},
   "outputs": [
    {
     "name": "stdout",
     "output_type": "stream",
     "text": [
      "4.3528366968698515\n"
     ]
    }
   ],
   "source": [
    "avg_screen_time=df['Avg_Daily_Screen_Time_hr'].mean() #average screen time per day\n",
    "print(avg_screen_time)"
   ]
  },
  {
   "cell_type": "code",
   "execution_count": 136,
   "id": "4ae88f87-ea0d-4249-b125-d56aa7f1ccea",
   "metadata": {},
   "outputs": [],
   "source": [
    "bins = [0, 6, 12, 18]   # groups: 0–6, 7–12, 13–18\n",
    "labels = ['0-6', '7-12', '13-18']\n",
    "df['Age_Group'] = pd.cut(df['Age'], bins=bins, labels=labels, include_lowest=True)\n",
    "age_group_dist = df.groupby('Age_Group', observed=False)['Avg_Daily_Screen_Time_hr'].mean()\n"
   ]
  },
  {
   "cell_type": "code",
   "execution_count": 137,
   "id": "02a0205f-b3e1-4c81-bf30-a7a94060c972",
   "metadata": {},
   "outputs": [
    {
     "name": "stdout",
     "output_type": "stream",
     "text": [
      "\n",
      "Screen time distribution by Gender:\n",
      " Gender\n",
      "Female    4.327021\n",
      "Male      4.377754\n",
      "Name: Avg_Daily_Screen_Time_hr, dtype: float64\n"
     ]
    }
   ],
   "source": [
    "# 4. Distribution of screen time by gender\n",
    "gender_dist = df.groupby('Gender')['Avg_Daily_Screen_Time_hr'].mean()\n",
    "print(\"\\nScreen time distribution by Gender:\\n\", gender_dist)"
   ]
  },
  {
   "cell_type": "code",
   "execution_count": 138,
   "id": "549b36a4-c2f7-4c28-aac8-b9be3c388450",
   "metadata": {},
   "outputs": [
    {
     "data": {
      "image/png": "[encoded data removed]",
      "text/plain": [
       "<Figure size 600x400 with 1 Axes>"
      ]
     },
     "metadata": {},
     "output_type": "display_data"
    }
   ],
   "source": [
    "# Histogram of daily screen time\n",
    "plt.figure(figsize=(6,4))\n",
    "plt.hist(df['Avg_Daily_Screen_Time_hr'], bins=10, color='skyblue', edgecolor='black')\n",
    "plt.title(\"Histogram of Daily Screen Time\")\n",
    "plt.xlabel(\"Daily Screen Time (hours)\")\n",
    "plt.ylabel(\"Count\")\n",
    "plt.show()"
   ]
  },
  {
   "cell_type": "code",
   "execution_count": 139,
   "id": "f64ecd18-c149-4180-bb4b-021a3d1ddf57",
   "metadata": {},
   "outputs": [
    {
     "data": {
      "image/png": "[encoded data removed]",
      "text/plain": [
       "<Figure size 600x400 with 1 Axes>"
      ]
     },
     "metadata": {},
     "output_type": "display_data"
    }
   ],
   "source": [
    "# Bar chart of average screen time by age group\n",
    "plt.figure(figsize=(6,4))\n",
    "plt.bar(age_group_dist.index.astype(str), age_group_dist.values, color='blue', edgecolor='black')\n",
    "plt.title(\"Average Screen Time by Age Group\")\n",
    "plt.xlabel(\"Age Group\")\n",
    "plt.ylabel(\"Average Screen Time (hours)\")\n",
    "plt.show()"
   ]
  },
  {
   "cell_type": "code",
   "execution_count": 140,
   "id": "008bc5e7-7d61-441e-a3db-9ce3cb265cca",
   "metadata": {},
   "outputs": [
    {
     "data": {
      "image/png": "[encoded data removed]",
      "text/plain": [
       "<Figure size 600x600 with 1 Axes>"
      ]
     },
     "metadata": {},
     "output_type": "display_data"
    }
   ],
   "source": [
    "# Pie chart of device usage (if available)\n",
    "if 'Primary_Device' in df.columns:\n",
    "    plt.figure(figsize=(6,6))\n",
    "    df['Primary_Device'].value_counts().plot.pie(autopct='%1.1f%%', startangle=90, shadow=True)\n",
    "    plt.title(\"Primary Device Usage\")\n",
    "    plt.ylabel(\"\")  # hide y-label\n",
    "    plt.show()"
   ]
  },
  {
   "cell_type": "code",
   "execution_count": 141,
   "id": "6dbd392a-c790-451b-b7ac-c67e37a0137b",
   "metadata": {},
   "outputs": [
    {
     "name": "stdout",
     "output_type": "stream",
     "text": [
      "Urban_or_Rural\n",
      "Rural    4.373702\n",
      "Urban    4.344123\n",
      "Name: Avg_Daily_Screen_Time_hr, dtype: float64\n"
     ]
    }
   ],
   "source": [
    "#Group-wise Analysis Urban vs Rural\n",
    "print(df.groupby('Urban_or_Rural')['Avg_Daily_Screen_Time_hr'].mean())\n"
   ]
  },
  {
   "cell_type": "code",
   "execution_count": 142,
   "id": "c3fdd789-d7fd-42d9-863a-7253a6a83dd7",
   "metadata": {},
   "outputs": [
    {
     "name": "stdout",
     "output_type": "stream",
     "text": [
      "Health_Impacts\n",
      "Anxiety                                          4.903403\n",
      "Anxiety, Obesity Risk                            4.648841\n",
      "Eye Strain                                       4.809301\n",
      "Eye Strain, Anxiety                              5.081185\n",
      "Eye Strain, Anxiety, Obesity Risk                4.993429\n",
      "Eye Strain, Obesity Risk                         4.949811\n",
      "Obesity Risk                                     4.911151\n",
      "Poor Sleep                                       4.955445\n",
      "Poor Sleep, Anxiety                              4.906283\n",
      "Poor Sleep, Anxiety, Obesity Risk                5.060641\n",
      "Poor Sleep, Eye Strain                           4.883207\n",
      "Poor Sleep, Eye Strain, Anxiety                  4.911667\n",
      "Poor Sleep, Eye Strain, Anxiety, Obesity Risk    4.548378\n",
      "Poor Sleep, Eye Strain, Obesity Risk             4.818617\n",
      "Poor Sleep, Obesity Risk                         5.015376\n",
      "Name: Avg_Daily_Screen_Time_hr, dtype: float64\n"
     ]
    }
   ],
   "source": [
    "#Group-wise Analysis Health Impacts\n",
    "print(df.groupby('Health_Impacts')['Avg_Daily_Screen_Time_hr'].mean())"
   ]
  },
  {
   "cell_type": "code",
   "execution_count": 143,
   "id": "ed895101-be3e-4392-a1e8-0ebfc958f0e6",
   "metadata": {},
   "outputs": [
    {
     "name": "stdout",
     "output_type": "stream",
     "text": [
      "Primary_Device  Laptop  Smartphone    TV  Tablet\n",
      "Gender                                          \n",
      "Female             741        2221  1218     590\n",
      "Male               692        2347  1269     634\n"
     ]
    }
   ],
   "source": [
    "print(pd.crosstab(df['Gender'], df['Primary_Device'])) #count primary devices gender wise"
   ]
  },
  {
   "cell_type": "code",
   "execution_count": 144,
   "id": "889fb258-b4e3-450e-94ef-a0e7e3a4711e",
   "metadata": {},
   "outputs": [
    {
     "data": {
      "image/png": "[encoded data removed]",
      "text/plain": [
       "<Figure size 640x480 with 1 Axes>"
      ]
     },
     "metadata": {},
     "output_type": "display_data"
    }
   ],
   "source": [
    "# Boxplot – Spread of Screen Time\n",
    "plt.boxplot(df['Avg_Daily_Screen_Time_hr'])\n",
    "plt.title(\"Boxplot of Daily Screen Time\")\n",
    "plt.ylabel(\"Hours\")\n",
    "plt.show()"
   ]
  },
  {
   "cell_type": "code",
   "execution_count": 145,
   "id": "069a653e-afaa-4f7f-90f0-ecdd3d245a37",
   "metadata": {},
   "outputs": [
    {
     "data": {
      "image/png": "[encoded data removed]",
      "text/plain": [
       "<Figure size 640x480 with 1 Axes>"
      ]
     },
     "metadata": {},
     "output_type": "display_data"
    }
   ],
   "source": [
    "urban_rural_avg = df.groupby('Urban_or_Rural')['Avg_Daily_Screen_Time_hr'].mean()\n",
    "plt.bar(urban_rural_avg.index, urban_rural_avg.values, color=['green','orange'], edgecolor='black')\n",
    "plt.title(\"Average Screen Time: Urban vs Rural\")\n",
    "plt.xlabel(\"Location\")\n",
    "plt.ylabel(\"Average Screen Time (hours)\")\n",
    "plt.show()"
   ]
  },
  {
   "cell_type": "code",
   "execution_count": null,
   "id": "81416e01-6f97-46f7-83b7-0a26602504a3",
   "metadata": {},
   "outputs": [],
   "source": [
    "4. Statistics:"
   ]
  },
  {
   "cell_type": "code",
   "execution_count": 146,
   "id": "4339a913-7f9f-4603-ad2d-2d66a93fb3c6",
   "metadata": {},
   "outputs": [
    {
     "name": "stdout",
     "output_type": "stream",
     "text": [
      "4.3528366968698515\n",
      "4.44\n",
      "0.0\n"
     ]
    }
   ],
   "source": [
    "#Mean, Median, Mode of Screen Time\n",
    "mean_val = df['Avg_Daily_Screen_Time_hr'].mean()\n",
    "median_val = df['Avg_Daily_Screen_Time_hr'].median()\n",
    "mode_val = df['Avg_Daily_Screen_Time_hr'].mode()[0]\n",
    "print(mean_val)\n",
    "print(median_val)\n",
    "print(mode_val)"
   ]
  },
  {
   "cell_type": "code",
   "execution_count": 147,
   "id": "b36f3a63-4397-4e02-9c02-409e03260592",
   "metadata": {},
   "outputs": [
    {
     "name": "stdout",
     "output_type": "stream",
     "text": [
      "0.819501647446458\n"
     ]
    }
   ],
   "source": [
    "#Probability that a random kid spends > 3 hrs\n",
    "prob_of_3 = (df['Avg_Daily_Screen_Time_hr'] > 3).mean()\n",
    "print(prob_of_3)"
   ]
  },
  {
   "cell_type": "code",
   "execution_count": 148,
   "id": "1fc70ec0-ee51-4a52-9461-4846eedefb11",
   "metadata": {},
   "outputs": [
    {
     "name": "stdout",
     "output_type": "stream",
     "text": [
      "0.1371499176276771\n"
     ]
    }
   ],
   "source": [
    "#Probability kid is below 10 yrs & spends > 2 hrs\n",
    "prob_age_2_to_10 = ((df['Age'] < 10) & (df['Avg_Daily_Screen_Time_hr'] > 2)).mean()\n",
    "print( prob_age_2_to_10)"
   ]
  },
  {
   "cell_type": "code",
   "execution_count": 149,
   "id": "fae3f25f-7bd1-43bd-a8aa-897da5c5a88a",
   "metadata": {},
   "outputs": [
    {
     "name": "stdout",
     "output_type": "stream",
     "text": [
      "[3.99 4.61 3.73 ... 5.62 5.6  6.12]\n"
     ]
    }
   ],
   "source": [
    "#Convert Screen Time column into a NumPy array\n",
    "screen_time = df['Avg_Daily_Screen_Time_hr'].to_numpy()\n",
    "print(screen_time)\n"
   ]
  },
  {
   "cell_type": "code",
   "execution_count": null,
   "id": "9b609bca-0e39-4e48-a4cb-9bf18ace077c",
   "metadata": {},
   "outputs": [],
   "source": [
    "5. Linear Algebra & NumPy:"
   ]
  },
  {
   "cell_type": "code",
   "execution_count": 150,
   "id": "c0296c7b-19df-4763-9734-a28df4e588ae",
   "metadata": {},
   "outputs": [
    {
     "name": "stdout",
     "output_type": "stream",
     "text": [
      "Engagement Score Array:\n",
      " [5 9 4 ... 2 8 6]\n"
     ]
    }
   ],
   "source": [
    "#Create a random Engagement Score array (same size)\n",
    "score = np.random.randint(1, 10, size=screen_time.shape[0])\n",
    "print(\"Engagement Score Array:\\n\",score)"
   ]
  },
  {
   "cell_type": "code",
   "execution_count": 151,
   "id": "7e18dad4-8252-42a3-82ad-7297d7275daf",
   "metadata": {},
   "outputs": [
    {
     "name": "stdout",
     "output_type": "stream",
     "text": [
      "[ 8.99 13.61  7.73 ...  7.62 13.6  12.12]\n"
     ]
    }
   ],
   "source": [
    "#Vector Addition\n",
    "vector_sum = screen_time + score\n",
    "print(vector_sum)"
   ]
  },
  {
   "cell_type": "code",
   "execution_count": 152,
   "id": "c3f3389b-1d0d-4d1d-b399-faedd9b8da6c",
   "metadata": {},
   "outputs": [
    {
     "name": "stdout",
     "output_type": "stream",
     "text": [
      "Dot Product: 210791.28000000003\n"
     ]
    }
   ],
   "source": [
    "#Dot Product\n",
    "dot_product = np.dot(screen_time, score)\n",
    "print(\"Dot Product:\", dot_product)"
   ]
  },
  {
   "cell_type": "code",
   "execution_count": 153,
   "id": "f4dc85ab-ff80-4c91-b60b-81943e4aa463",
   "metadata": {},
   "outputs": [
    {
     "name": "stdout",
     "output_type": "stream",
     "text": [
      "[4.394 6.366 3.838 ... 4.172 6.56  6.072]\n"
     ]
    }
   ],
   "source": [
    "features = np.vstack([screen_time, score]).T   # shape (n,2)\n",
    "weights = np.array([0.6, 0.4])   # weights vector\n",
    "\n",
    "# Weighted sum \n",
    "weighted_output = np.dot(features, weights)\n",
    "print(weighted_output)"
   ]
  },
  {
   "cell_type": "code",
   "execution_count": 154,
   "id": "d162acc1-4454-4f21-92dc-31123e817e20",
   "metadata": {},
   "outputs": [
    {
     "name": "stdout",
     "output_type": "stream",
     "text": [
      "Correlation matrix:\n",
      " [[ 1.         -0.00481635]\n",
      " [-0.00481635  1.        ]]\n",
      "Covariance matrix:\n",
      " [[ 2.95232278 -0.02143199]\n",
      " [-0.02143199  6.70695484]]\n"
     ]
    }
   ],
   "source": [
    "corr_matrix = np.corrcoef(screen_time, score)\n",
    "cov_matrix = np.cov(screen_time, score)\n",
    "\n",
    "print(\"Correlation matrix:\\n\", corr_matrix)\n",
    "print(\"Covariance matrix:\\n\", cov_matrix)"
   ]
  },
  {
   "cell_type": "code",
   "execution_count": 155,
   "id": "821f3256-f323-46c4-a6bb-405e5950d4b5",
   "metadata": {},
   "outputs": [
    {
     "name": "stdout",
     "output_type": "stream",
     "text": [
      "[-0.21117945  0.14967506 -0.36250553 ...  0.73751869  0.72587822\n",
      "  1.02853038]\n"
     ]
    }
   ],
   "source": [
    "standardized = (screen_time - np.mean(screen_time)) / np.std(screen_time)\n",
    "print(standardized)"
   ]
  },
  {
   "cell_type": "code",
   "execution_count": null,
   "id": "7c07a5eb-d63e-4081-81aa-741f1eb27bc2",
   "metadata": {},
   "outputs": [],
   "source": [
    "6. Feature Engineering:"
   ]
  },
  {
   "cell_type": "code",
   "execution_count": 156,
   "id": "ec7424e0-1143-43ae-ac07-44036c3d8f34",
   "metadata": {},
   "outputs": [
    {
     "data": {
      "text/html": [
       "<div>\n",
       "<style scoped>\n",
       "    .dataframe tbody tr th:only-of-type {\n",
       "        vertical-align: middle;\n",
       "    }\n",
       "\n",
       "    .dataframe tbody tr th {\n",
       "        vertical-align: top;\n",
       "    }\n",
       "\n",
       "    .dataframe thead th {\n",
       "        text-align: right;\n",
       "    }\n",
       "</style>\n",
       "<table border=\"1\" class=\"dataframe\">\n",
       "  <thead>\n",
       "    <tr style=\"text-align: right;\">\n",
       "      <th></th>\n",
       "      <th>Age</th>\n",
       "      <th>Gender</th>\n",
       "      <th>Avg_Daily_Screen_Time_hr</th>\n",
       "      <th>Primary_Device</th>\n",
       "      <th>Exceeded_Recommended_Limit</th>\n",
       "      <th>Educational_to_Recreational_Ratio</th>\n",
       "      <th>Health_Impacts</th>\n",
       "      <th>Urban_or_Rural</th>\n",
       "      <th>Gender_convert</th>\n",
       "      <th>Screen_Time_Category</th>\n",
       "      <th>Age_Group</th>\n",
       "      <th>High_Screen_User</th>\n",
       "    </tr>\n",
       "  </thead>\n",
       "  <tbody>\n",
       "    <tr>\n",
       "      <th>0</th>\n",
       "      <td>14</td>\n",
       "      <td>Male</td>\n",
       "      <td>3.99</td>\n",
       "      <td>Smartphone</td>\n",
       "      <td>True</td>\n",
       "      <td>0.42</td>\n",
       "      <td>Poor Sleep, Eye Strain</td>\n",
       "      <td>Urban</td>\n",
       "      <td>M</td>\n",
       "      <td>Moderate</td>\n",
       "      <td>13-18</td>\n",
       "      <td>1</td>\n",
       "    </tr>\n",
       "    <tr>\n",
       "      <th>1</th>\n",
       "      <td>11</td>\n",
       "      <td>Female</td>\n",
       "      <td>4.61</td>\n",
       "      <td>Laptop</td>\n",
       "      <td>True</td>\n",
       "      <td>0.30</td>\n",
       "      <td>Poor Sleep</td>\n",
       "      <td>Urban</td>\n",
       "      <td>F</td>\n",
       "      <td>Moderate</td>\n",
       "      <td>7-12</td>\n",
       "      <td>1</td>\n",
       "    </tr>\n",
       "    <tr>\n",
       "      <th>2</th>\n",
       "      <td>18</td>\n",
       "      <td>Female</td>\n",
       "      <td>3.73</td>\n",
       "      <td>TV</td>\n",
       "      <td>True</td>\n",
       "      <td>0.32</td>\n",
       "      <td>Poor Sleep</td>\n",
       "      <td>Urban</td>\n",
       "      <td>F</td>\n",
       "      <td>Moderate</td>\n",
       "      <td>13-18</td>\n",
       "      <td>1</td>\n",
       "    </tr>\n",
       "    <tr>\n",
       "      <th>3</th>\n",
       "      <td>15</td>\n",
       "      <td>Female</td>\n",
       "      <td>1.21</td>\n",
       "      <td>Laptop</td>\n",
       "      <td>False</td>\n",
       "      <td>0.39</td>\n",
       "      <td>NaN</td>\n",
       "      <td>Urban</td>\n",
       "      <td>F</td>\n",
       "      <td>Low</td>\n",
       "      <td>13-18</td>\n",
       "      <td>0</td>\n",
       "    </tr>\n",
       "    <tr>\n",
       "      <th>4</th>\n",
       "      <td>12</td>\n",
       "      <td>Female</td>\n",
       "      <td>5.89</td>\n",
       "      <td>Smartphone</td>\n",
       "      <td>True</td>\n",
       "      <td>0.49</td>\n",
       "      <td>Poor Sleep, Anxiety</td>\n",
       "      <td>Urban</td>\n",
       "      <td>F</td>\n",
       "      <td>Moderate</td>\n",
       "      <td>7-12</td>\n",
       "      <td>1</td>\n",
       "    </tr>\n",
       "  </tbody>\n",
       "</table>\n",
       "</div>"
      ],
      "text/plain": [
       "   Age  Gender  Avg_Daily_Screen_Time_hr Primary_Device  \\\n",
       "0   14    Male                      3.99     Smartphone   \n",
       "1   11  Female                      4.61         Laptop   \n",
       "2   18  Female                      3.73             TV   \n",
       "3   15  Female                      1.21         Laptop   \n",
       "4   12  Female                      5.89     Smartphone   \n",
       "\n",
       "   Exceeded_Recommended_Limit  Educational_to_Recreational_Ratio  \\\n",
       "0                        True                               0.42   \n",
       "1                        True                               0.30   \n",
       "2                        True                               0.32   \n",
       "3                       False                               0.39   \n",
       "4                        True                               0.49   \n",
       "\n",
       "           Health_Impacts Urban_or_Rural Gender_convert Screen_Time_Category  \\\n",
       "0  Poor Sleep, Eye Strain          Urban              M             Moderate   \n",
       "1              Poor Sleep          Urban              F             Moderate   \n",
       "2              Poor Sleep          Urban              F             Moderate   \n",
       "3                     NaN          Urban              F                  Low   \n",
       "4     Poor Sleep, Anxiety          Urban              F             Moderate   \n",
       "\n",
       "  Age_Group  High_Screen_User  \n",
       "0     13-18                 1  \n",
       "1      7-12                 1  \n",
       "2     13-18                 1  \n",
       "3     13-18                 0  \n",
       "4      7-12                 1  "
      ]
     },
     "execution_count": 156,
     "metadata": {},
     "output_type": "execute_result"
    }
   ],
   "source": [
    "#Create a new column High_Screen_User(1 if screen_time > 3 hrs, else 0).\n",
    "df['High_Screen_User'] = (df['Avg_Daily_Screen_Time_hr'] > 3).astype(int)\n",
    "df.head()"
   ]
  },
  {
   "cell_type": "code",
   "execution_count": 157,
   "id": "877a94ce-8bca-4843-bc5a-6a3a3831a649",
   "metadata": {},
   "outputs": [
    {
     "data": {
      "text/html": [
       "<div>\n",
       "<style scoped>\n",
       "    .dataframe tbody tr th:only-of-type {\n",
       "        vertical-align: middle;\n",
       "    }\n",
       "\n",
       "    .dataframe tbody tr th {\n",
       "        vertical-align: top;\n",
       "    }\n",
       "\n",
       "    .dataframe thead th {\n",
       "        text-align: right;\n",
       "    }\n",
       "</style>\n",
       "<table border=\"1\" class=\"dataframe\">\n",
       "  <thead>\n",
       "    <tr style=\"text-align: right;\">\n",
       "      <th></th>\n",
       "      <th>Age</th>\n",
       "      <th>Gender</th>\n",
       "      <th>Avg_Daily_Screen_Time_hr</th>\n",
       "      <th>Primary_Device</th>\n",
       "      <th>Exceeded_Recommended_Limit</th>\n",
       "      <th>Educational_to_Recreational_Ratio</th>\n",
       "      <th>Health_Impacts</th>\n",
       "      <th>Urban_or_Rural</th>\n",
       "      <th>Gender_convert</th>\n",
       "      <th>Screen_Time_Category</th>\n",
       "      <th>Age_Group</th>\n",
       "      <th>High_Screen_User</th>\n",
       "    </tr>\n",
       "  </thead>\n",
       "  <tbody>\n",
       "    <tr>\n",
       "      <th>0</th>\n",
       "      <td>14</td>\n",
       "      <td>Male</td>\n",
       "      <td>3.99</td>\n",
       "      <td>Smartphone</td>\n",
       "      <td>True</td>\n",
       "      <td>0.42</td>\n",
       "      <td>Poor Sleep, Eye Strain</td>\n",
       "      <td>Urban</td>\n",
       "      <td>M</td>\n",
       "      <td>Moderate</td>\n",
       "      <td>11-15</td>\n",
       "      <td>1</td>\n",
       "    </tr>\n",
       "    <tr>\n",
       "      <th>1</th>\n",
       "      <td>11</td>\n",
       "      <td>Female</td>\n",
       "      <td>4.61</td>\n",
       "      <td>Laptop</td>\n",
       "      <td>True</td>\n",
       "      <td>0.30</td>\n",
       "      <td>Poor Sleep</td>\n",
       "      <td>Urban</td>\n",
       "      <td>F</td>\n",
       "      <td>Moderate</td>\n",
       "      <td>11-15</td>\n",
       "      <td>1</td>\n",
       "    </tr>\n",
       "    <tr>\n",
       "      <th>2</th>\n",
       "      <td>18</td>\n",
       "      <td>Female</td>\n",
       "      <td>3.73</td>\n",
       "      <td>TV</td>\n",
       "      <td>True</td>\n",
       "      <td>0.32</td>\n",
       "      <td>Poor Sleep</td>\n",
       "      <td>Urban</td>\n",
       "      <td>F</td>\n",
       "      <td>Moderate</td>\n",
       "      <td>16-18</td>\n",
       "      <td>1</td>\n",
       "    </tr>\n",
       "    <tr>\n",
       "      <th>3</th>\n",
       "      <td>15</td>\n",
       "      <td>Female</td>\n",
       "      <td>1.21</td>\n",
       "      <td>Laptop</td>\n",
       "      <td>False</td>\n",
       "      <td>0.39</td>\n",
       "      <td>NaN</td>\n",
       "      <td>Urban</td>\n",
       "      <td>F</td>\n",
       "      <td>Low</td>\n",
       "      <td>11-15</td>\n",
       "      <td>0</td>\n",
       "    </tr>\n",
       "    <tr>\n",
       "      <th>4</th>\n",
       "      <td>12</td>\n",
       "      <td>Female</td>\n",
       "      <td>5.89</td>\n",
       "      <td>Smartphone</td>\n",
       "      <td>True</td>\n",
       "      <td>0.49</td>\n",
       "      <td>Poor Sleep, Anxiety</td>\n",
       "      <td>Urban</td>\n",
       "      <td>F</td>\n",
       "      <td>Moderate</td>\n",
       "      <td>11-15</td>\n",
       "      <td>1</td>\n",
       "    </tr>\n",
       "  </tbody>\n",
       "</table>\n",
       "</div>"
      ],
      "text/plain": [
       "   Age  Gender  Avg_Daily_Screen_Time_hr Primary_Device  \\\n",
       "0   14    Male                      3.99     Smartphone   \n",
       "1   11  Female                      4.61         Laptop   \n",
       "2   18  Female                      3.73             TV   \n",
       "3   15  Female                      1.21         Laptop   \n",
       "4   12  Female                      5.89     Smartphone   \n",
       "\n",
       "   Exceeded_Recommended_Limit  Educational_to_Recreational_Ratio  \\\n",
       "0                        True                               0.42   \n",
       "1                        True                               0.30   \n",
       "2                        True                               0.32   \n",
       "3                       False                               0.39   \n",
       "4                        True                               0.49   \n",
       "\n",
       "           Health_Impacts Urban_or_Rural Gender_convert Screen_Time_Category  \\\n",
       "0  Poor Sleep, Eye Strain          Urban              M             Moderate   \n",
       "1              Poor Sleep          Urban              F             Moderate   \n",
       "2              Poor Sleep          Urban              F             Moderate   \n",
       "3                     NaN          Urban              F                  Low   \n",
       "4     Poor Sleep, Anxiety          Urban              F             Moderate   \n",
       "\n",
       "  Age_Group  High_Screen_User  \n",
       "0     11-15                 1  \n",
       "1     11-15                 1  \n",
       "2     16-18                 1  \n",
       "3     11-15                 0  \n",
       "4     11-15                 1  "
      ]
     },
     "execution_count": 157,
     "metadata": {},
     "output_type": "execute_result"
    }
   ],
   "source": [
    "#Create a new column: Age_Group (e.g., 5–10, 11–15, 16–18)\n",
    "bins = [4, 10, 15, 18]   # age ranges\n",
    "labels = ['5-10', '11-15', '16-18']\n",
    "df['Age_Group'] = pd.cut(df['Age'], bins=bins, labels=labels, include_lowest=True)\n",
    "df.head()"
   ]
  },
  {
   "cell_type": "code",
   "execution_count": 158,
   "id": "8ce72a29-7836-4ce8-a270-1c7c909c641f",
   "metadata": {},
   "outputs": [
    {
     "data": {
      "text/html": [
       "<div>\n",
       "<style scoped>\n",
       "    .dataframe tbody tr th:only-of-type {\n",
       "        vertical-align: middle;\n",
       "    }\n",
       "\n",
       "    .dataframe tbody tr th {\n",
       "        vertical-align: top;\n",
       "    }\n",
       "\n",
       "    .dataframe thead th {\n",
       "        text-align: right;\n",
       "    }\n",
       "</style>\n",
       "<table border=\"1\" class=\"dataframe\">\n",
       "  <thead>\n",
       "    <tr style=\"text-align: right;\">\n",
       "      <th></th>\n",
       "      <th>Age</th>\n",
       "      <th>Gender</th>\n",
       "      <th>Avg_Daily_Screen_Time_hr</th>\n",
       "      <th>Primary_Device</th>\n",
       "      <th>Exceeded_Recommended_Limit</th>\n",
       "      <th>Educational_to_Recreational_Ratio</th>\n",
       "      <th>Health_Impacts</th>\n",
       "      <th>Urban_or_Rural</th>\n",
       "      <th>Gender_convert</th>\n",
       "      <th>Screen_Time_Category</th>\n",
       "      <th>Age_Group</th>\n",
       "      <th>High_Screen_User</th>\n",
       "      <th>Screen_Quartile</th>\n",
       "    </tr>\n",
       "  </thead>\n",
       "  <tbody>\n",
       "    <tr>\n",
       "      <th>0</th>\n",
       "      <td>14</td>\n",
       "      <td>Male</td>\n",
       "      <td>3.99</td>\n",
       "      <td>Smartphone</td>\n",
       "      <td>True</td>\n",
       "      <td>0.42</td>\n",
       "      <td>Poor Sleep, Eye Strain</td>\n",
       "      <td>Urban</td>\n",
       "      <td>M</td>\n",
       "      <td>Moderate</td>\n",
       "      <td>11-15</td>\n",
       "      <td>1</td>\n",
       "      <td>Q2</td>\n",
       "    </tr>\n",
       "    <tr>\n",
       "      <th>1</th>\n",
       "      <td>11</td>\n",
       "      <td>Female</td>\n",
       "      <td>4.61</td>\n",
       "      <td>Laptop</td>\n",
       "      <td>True</td>\n",
       "      <td>0.30</td>\n",
       "      <td>Poor Sleep</td>\n",
       "      <td>Urban</td>\n",
       "      <td>F</td>\n",
       "      <td>Moderate</td>\n",
       "      <td>11-15</td>\n",
       "      <td>1</td>\n",
       "      <td>Q3</td>\n",
       "    </tr>\n",
       "    <tr>\n",
       "      <th>2</th>\n",
       "      <td>18</td>\n",
       "      <td>Female</td>\n",
       "      <td>3.73</td>\n",
       "      <td>TV</td>\n",
       "      <td>True</td>\n",
       "      <td>0.32</td>\n",
       "      <td>Poor Sleep</td>\n",
       "      <td>Urban</td>\n",
       "      <td>F</td>\n",
       "      <td>Moderate</td>\n",
       "      <td>16-18</td>\n",
       "      <td>1</td>\n",
       "      <td>Q2</td>\n",
       "    </tr>\n",
       "    <tr>\n",
       "      <th>3</th>\n",
       "      <td>15</td>\n",
       "      <td>Female</td>\n",
       "      <td>1.21</td>\n",
       "      <td>Laptop</td>\n",
       "      <td>False</td>\n",
       "      <td>0.39</td>\n",
       "      <td>NaN</td>\n",
       "      <td>Urban</td>\n",
       "      <td>F</td>\n",
       "      <td>Low</td>\n",
       "      <td>11-15</td>\n",
       "      <td>0</td>\n",
       "      <td>Q1</td>\n",
       "    </tr>\n",
       "    <tr>\n",
       "      <th>4</th>\n",
       "      <td>12</td>\n",
       "      <td>Female</td>\n",
       "      <td>5.89</td>\n",
       "      <td>Smartphone</td>\n",
       "      <td>True</td>\n",
       "      <td>0.49</td>\n",
       "      <td>Poor Sleep, Anxiety</td>\n",
       "      <td>Urban</td>\n",
       "      <td>F</td>\n",
       "      <td>Moderate</td>\n",
       "      <td>11-15</td>\n",
       "      <td>1</td>\n",
       "      <td>Q4</td>\n",
       "    </tr>\n",
       "  </tbody>\n",
       "</table>\n",
       "</div>"
      ],
      "text/plain": [
       "   Age  Gender  Avg_Daily_Screen_Time_hr Primary_Device  \\\n",
       "0   14    Male                      3.99     Smartphone   \n",
       "1   11  Female                      4.61         Laptop   \n",
       "2   18  Female                      3.73             TV   \n",
       "3   15  Female                      1.21         Laptop   \n",
       "4   12  Female                      5.89     Smartphone   \n",
       "\n",
       "   Exceeded_Recommended_Limit  Educational_to_Recreational_Ratio  \\\n",
       "0                        True                               0.42   \n",
       "1                        True                               0.30   \n",
       "2                        True                               0.32   \n",
       "3                       False                               0.39   \n",
       "4                        True                               0.49   \n",
       "\n",
       "           Health_Impacts Urban_or_Rural Gender_convert Screen_Time_Category  \\\n",
       "0  Poor Sleep, Eye Strain          Urban              M             Moderate   \n",
       "1              Poor Sleep          Urban              F             Moderate   \n",
       "2              Poor Sleep          Urban              F             Moderate   \n",
       "3                     NaN          Urban              F                  Low   \n",
       "4     Poor Sleep, Anxiety          Urban              F             Moderate   \n",
       "\n",
       "  Age_Group  High_Screen_User Screen_Quartile  \n",
       "0     11-15                 1              Q2  \n",
       "1     11-15                 1              Q3  \n",
       "2     16-18                 1              Q2  \n",
       "3     11-15                 0              Q1  \n",
       "4     11-15                 1              Q4  "
      ]
     },
     "execution_count": 158,
     "metadata": {},
     "output_type": "execute_result"
    }
   ],
   "source": [
    "#Create Screen_Quartile based on screen_time.\n",
    "df['Screen_Quartile'] = pd.qcut(df['Avg_Daily_Screen_Time_hr'], q=4, labels=['Q1','Q2','Q3','Q4'])\n",
    "df.head()"
   ]
  },
  {
   "cell_type": "code",
   "execution_count": 159,
   "id": "b885c601-0aca-466a-b1ed-f4f0ce1eb591",
   "metadata": {},
   "outputs": [
    {
     "data": {
      "text/html": [
       "<div>\n",
       "<style scoped>\n",
       "    .dataframe tbody tr th:only-of-type {\n",
       "        vertical-align: middle;\n",
       "    }\n",
       "\n",
       "    .dataframe tbody tr th {\n",
       "        vertical-align: top;\n",
       "    }\n",
       "\n",
       "    .dataframe thead th {\n",
       "        text-align: right;\n",
       "    }\n",
       "</style>\n",
       "<table border=\"1\" class=\"dataframe\">\n",
       "  <thead>\n",
       "    <tr style=\"text-align: right;\">\n",
       "      <th></th>\n",
       "      <th>Age</th>\n",
       "      <th>Gender</th>\n",
       "      <th>Avg_Daily_Screen_Time_hr</th>\n",
       "      <th>Primary_Device</th>\n",
       "      <th>Exceeded_Recommended_Limit</th>\n",
       "      <th>Educational_to_Recreational_Ratio</th>\n",
       "      <th>Health_Impacts</th>\n",
       "      <th>Urban_or_Rural</th>\n",
       "      <th>Gender_convert</th>\n",
       "      <th>Screen_Time_Category</th>\n",
       "      <th>Age_Group</th>\n",
       "      <th>High_Screen_User</th>\n",
       "      <th>Screen_Quartile</th>\n",
       "      <th>Health_Risk</th>\n",
       "    </tr>\n",
       "  </thead>\n",
       "  <tbody>\n",
       "    <tr>\n",
       "      <th>0</th>\n",
       "      <td>14</td>\n",
       "      <td>Male</td>\n",
       "      <td>3.99</td>\n",
       "      <td>Smartphone</td>\n",
       "      <td>True</td>\n",
       "      <td>0.42</td>\n",
       "      <td>Poor Sleep, Eye Strain</td>\n",
       "      <td>Urban</td>\n",
       "      <td>M</td>\n",
       "      <td>Moderate</td>\n",
       "      <td>11-15</td>\n",
       "      <td>1</td>\n",
       "      <td>Q2</td>\n",
       "      <td>0</td>\n",
       "    </tr>\n",
       "    <tr>\n",
       "      <th>1</th>\n",
       "      <td>11</td>\n",
       "      <td>Female</td>\n",
       "      <td>4.61</td>\n",
       "      <td>Laptop</td>\n",
       "      <td>True</td>\n",
       "      <td>0.30</td>\n",
       "      <td>Poor Sleep</td>\n",
       "      <td>Urban</td>\n",
       "      <td>F</td>\n",
       "      <td>Moderate</td>\n",
       "      <td>11-15</td>\n",
       "      <td>1</td>\n",
       "      <td>Q3</td>\n",
       "      <td>1</td>\n",
       "    </tr>\n",
       "    <tr>\n",
       "      <th>2</th>\n",
       "      <td>18</td>\n",
       "      <td>Female</td>\n",
       "      <td>3.73</td>\n",
       "      <td>TV</td>\n",
       "      <td>True</td>\n",
       "      <td>0.32</td>\n",
       "      <td>Poor Sleep</td>\n",
       "      <td>Urban</td>\n",
       "      <td>F</td>\n",
       "      <td>Moderate</td>\n",
       "      <td>16-18</td>\n",
       "      <td>1</td>\n",
       "      <td>Q2</td>\n",
       "      <td>0</td>\n",
       "    </tr>\n",
       "    <tr>\n",
       "      <th>3</th>\n",
       "      <td>15</td>\n",
       "      <td>Female</td>\n",
       "      <td>1.21</td>\n",
       "      <td>Laptop</td>\n",
       "      <td>False</td>\n",
       "      <td>0.39</td>\n",
       "      <td>NaN</td>\n",
       "      <td>Urban</td>\n",
       "      <td>F</td>\n",
       "      <td>Low</td>\n",
       "      <td>11-15</td>\n",
       "      <td>0</td>\n",
       "      <td>Q1</td>\n",
       "      <td>0</td>\n",
       "    </tr>\n",
       "    <tr>\n",
       "      <th>4</th>\n",
       "      <td>12</td>\n",
       "      <td>Female</td>\n",
       "      <td>5.89</td>\n",
       "      <td>Smartphone</td>\n",
       "      <td>True</td>\n",
       "      <td>0.49</td>\n",
       "      <td>Poor Sleep, Anxiety</td>\n",
       "      <td>Urban</td>\n",
       "      <td>F</td>\n",
       "      <td>Moderate</td>\n",
       "      <td>11-15</td>\n",
       "      <td>1</td>\n",
       "      <td>Q4</td>\n",
       "      <td>0</td>\n",
       "    </tr>\n",
       "  </tbody>\n",
       "</table>\n",
       "</div>"
      ],
      "text/plain": [
       "   Age  Gender  Avg_Daily_Screen_Time_hr Primary_Device  \\\n",
       "0   14    Male                      3.99     Smartphone   \n",
       "1   11  Female                      4.61         Laptop   \n",
       "2   18  Female                      3.73             TV   \n",
       "3   15  Female                      1.21         Laptop   \n",
       "4   12  Female                      5.89     Smartphone   \n",
       "\n",
       "   Exceeded_Recommended_Limit  Educational_to_Recreational_Ratio  \\\n",
       "0                        True                               0.42   \n",
       "1                        True                               0.30   \n",
       "2                        True                               0.32   \n",
       "3                       False                               0.39   \n",
       "4                        True                               0.49   \n",
       "\n",
       "           Health_Impacts Urban_or_Rural Gender_convert Screen_Time_Category  \\\n",
       "0  Poor Sleep, Eye Strain          Urban              M             Moderate   \n",
       "1              Poor Sleep          Urban              F             Moderate   \n",
       "2              Poor Sleep          Urban              F             Moderate   \n",
       "3                     NaN          Urban              F                  Low   \n",
       "4     Poor Sleep, Anxiety          Urban              F             Moderate   \n",
       "\n",
       "  Age_Group  High_Screen_User Screen_Quartile  Health_Risk  \n",
       "0     11-15                 1              Q2            0  \n",
       "1     11-15                 1              Q3            1  \n",
       "2     16-18                 1              Q2            0  \n",
       "3     11-15                 0              Q1            0  \n",
       "4     11-15                 1              Q4            0  "
      ]
     },
     "execution_count": 159,
     "metadata": {},
     "output_type": "execute_result"
    }
   ],
   "source": [
    "#Create a Health_Risk column (1 if High_Screen_User=1 and age < 12)\n",
    "df['Health_Risk'] = ((df['High_Screen_User'] == 1) & (df['Age'] < 12)).astype(int)\n",
    "df.head()"
   ]
  },
  {
   "cell_type": "code",
   "execution_count": 160,
   "id": "541f9896-36cb-42bf-81df-c7c7282b4200",
   "metadata": {},
   "outputs": [
    {
     "data": {
      "text/html": [
       "<div>\n",
       "<style scoped>\n",
       "    .dataframe tbody tr th:only-of-type {\n",
       "        vertical-align: middle;\n",
       "    }\n",
       "\n",
       "    .dataframe tbody tr th {\n",
       "        vertical-align: top;\n",
       "    }\n",
       "\n",
       "    .dataframe thead th {\n",
       "        text-align: right;\n",
       "    }\n",
       "</style>\n",
       "<table border=\"1\" class=\"dataframe\">\n",
       "  <thead>\n",
       "    <tr style=\"text-align: right;\">\n",
       "      <th></th>\n",
       "      <th>Age</th>\n",
       "      <th>Gender</th>\n",
       "      <th>Avg_Daily_Screen_Time_hr</th>\n",
       "      <th>Primary_Device</th>\n",
       "      <th>Exceeded_Recommended_Limit</th>\n",
       "      <th>Educational_to_Recreational_Ratio</th>\n",
       "      <th>Health_Impacts</th>\n",
       "      <th>Urban_or_Rural</th>\n",
       "      <th>Gender_convert</th>\n",
       "      <th>Screen_Time_Category</th>\n",
       "      <th>Age_Group</th>\n",
       "      <th>High_Screen_User</th>\n",
       "      <th>Screen_Quartile</th>\n",
       "      <th>Health_Risk</th>\n",
       "      <th>Age_Category</th>\n",
       "    </tr>\n",
       "  </thead>\n",
       "  <tbody>\n",
       "    <tr>\n",
       "      <th>0</th>\n",
       "      <td>14</td>\n",
       "      <td>Male</td>\n",
       "      <td>3.99</td>\n",
       "      <td>Smartphone</td>\n",
       "      <td>True</td>\n",
       "      <td>0.42</td>\n",
       "      <td>Poor Sleep, Eye Strain</td>\n",
       "      <td>Urban</td>\n",
       "      <td>M</td>\n",
       "      <td>Moderate</td>\n",
       "      <td>11-15</td>\n",
       "      <td>1</td>\n",
       "      <td>Q2</td>\n",
       "      <td>0</td>\n",
       "      <td>Teen</td>\n",
       "    </tr>\n",
       "    <tr>\n",
       "      <th>1</th>\n",
       "      <td>11</td>\n",
       "      <td>Female</td>\n",
       "      <td>4.61</td>\n",
       "      <td>Laptop</td>\n",
       "      <td>True</td>\n",
       "      <td>0.30</td>\n",
       "      <td>Poor Sleep</td>\n",
       "      <td>Urban</td>\n",
       "      <td>F</td>\n",
       "      <td>Moderate</td>\n",
       "      <td>11-15</td>\n",
       "      <td>1</td>\n",
       "      <td>Q3</td>\n",
       "      <td>1</td>\n",
       "      <td>Pre-Teen</td>\n",
       "    </tr>\n",
       "    <tr>\n",
       "      <th>2</th>\n",
       "      <td>18</td>\n",
       "      <td>Female</td>\n",
       "      <td>3.73</td>\n",
       "      <td>TV</td>\n",
       "      <td>True</td>\n",
       "      <td>0.32</td>\n",
       "      <td>Poor Sleep</td>\n",
       "      <td>Urban</td>\n",
       "      <td>F</td>\n",
       "      <td>Moderate</td>\n",
       "      <td>16-18</td>\n",
       "      <td>1</td>\n",
       "      <td>Q2</td>\n",
       "      <td>0</td>\n",
       "      <td>Teen</td>\n",
       "    </tr>\n",
       "    <tr>\n",
       "      <th>3</th>\n",
       "      <td>15</td>\n",
       "      <td>Female</td>\n",
       "      <td>1.21</td>\n",
       "      <td>Laptop</td>\n",
       "      <td>False</td>\n",
       "      <td>0.39</td>\n",
       "      <td>NaN</td>\n",
       "      <td>Urban</td>\n",
       "      <td>F</td>\n",
       "      <td>Low</td>\n",
       "      <td>11-15</td>\n",
       "      <td>0</td>\n",
       "      <td>Q1</td>\n",
       "      <td>0</td>\n",
       "      <td>Teen</td>\n",
       "    </tr>\n",
       "    <tr>\n",
       "      <th>4</th>\n",
       "      <td>12</td>\n",
       "      <td>Female</td>\n",
       "      <td>5.89</td>\n",
       "      <td>Smartphone</td>\n",
       "      <td>True</td>\n",
       "      <td>0.49</td>\n",
       "      <td>Poor Sleep, Anxiety</td>\n",
       "      <td>Urban</td>\n",
       "      <td>F</td>\n",
       "      <td>Moderate</td>\n",
       "      <td>11-15</td>\n",
       "      <td>1</td>\n",
       "      <td>Q4</td>\n",
       "      <td>0</td>\n",
       "      <td>Pre-Teen</td>\n",
       "    </tr>\n",
       "  </tbody>\n",
       "</table>\n",
       "</div>"
      ],
      "text/plain": [
       "   Age  Gender  Avg_Daily_Screen_Time_hr Primary_Device  \\\n",
       "0   14    Male                      3.99     Smartphone   \n",
       "1   11  Female                      4.61         Laptop   \n",
       "2   18  Female                      3.73             TV   \n",
       "3   15  Female                      1.21         Laptop   \n",
       "4   12  Female                      5.89     Smartphone   \n",
       "\n",
       "   Exceeded_Recommended_Limit  Educational_to_Recreational_Ratio  \\\n",
       "0                        True                               0.42   \n",
       "1                        True                               0.30   \n",
       "2                        True                               0.32   \n",
       "3                       False                               0.39   \n",
       "4                        True                               0.49   \n",
       "\n",
       "           Health_Impacts Urban_or_Rural Gender_convert Screen_Time_Category  \\\n",
       "0  Poor Sleep, Eye Strain          Urban              M             Moderate   \n",
       "1              Poor Sleep          Urban              F             Moderate   \n",
       "2              Poor Sleep          Urban              F             Moderate   \n",
       "3                     NaN          Urban              F                  Low   \n",
       "4     Poor Sleep, Anxiety          Urban              F             Moderate   \n",
       "\n",
       "  Age_Group  High_Screen_User Screen_Quartile  Health_Risk Age_Category  \n",
       "0     11-15                 1              Q2            0         Teen  \n",
       "1     11-15                 1              Q3            1     Pre-Teen  \n",
       "2     16-18                 1              Q2            0         Teen  \n",
       "3     11-15                 0              Q1            0         Teen  \n",
       "4     11-15                 1              Q4            0     Pre-Teen  "
      ]
     },
     "execution_count": 160,
     "metadata": {},
     "output_type": "execute_result"
    }
   ],
   "source": [
    "# Age Category (Child, Teen, Pre-Teen)\n",
    "df['Age_Category'] = pd.cut(df['Age'], bins=[0, 9, 12, 18], labels=['Child','Pre-Teen','Teen'])\n",
    "df.head()"
   ]
  },
  {
   "cell_type": "code",
   "execution_count": 161,
   "id": "7abd6178-f4be-43d0-bb3e-ce09994570a6",
   "metadata": {},
   "outputs": [
    {
     "data": {
      "text/html": [
       "<div>\n",
       "<style scoped>\n",
       "    .dataframe tbody tr th:only-of-type {\n",
       "        vertical-align: middle;\n",
       "    }\n",
       "\n",
       "    .dataframe tbody tr th {\n",
       "        vertical-align: top;\n",
       "    }\n",
       "\n",
       "    .dataframe thead th {\n",
       "        text-align: right;\n",
       "    }\n",
       "</style>\n",
       "<table border=\"1\" class=\"dataframe\">\n",
       "  <thead>\n",
       "    <tr style=\"text-align: right;\">\n",
       "      <th></th>\n",
       "      <th>Age</th>\n",
       "      <th>Gender</th>\n",
       "      <th>Avg_Daily_Screen_Time_hr</th>\n",
       "      <th>Primary_Device</th>\n",
       "      <th>Exceeded_Recommended_Limit</th>\n",
       "      <th>Educational_to_Recreational_Ratio</th>\n",
       "      <th>Health_Impacts</th>\n",
       "      <th>Urban_or_Rural</th>\n",
       "      <th>Gender_convert</th>\n",
       "      <th>Screen_Time_Category</th>\n",
       "      <th>Age_Group</th>\n",
       "      <th>High_Screen_User</th>\n",
       "      <th>Screen_Quartile</th>\n",
       "      <th>Health_Risk</th>\n",
       "      <th>Age_Category</th>\n",
       "      <th>Risk_Level</th>\n",
       "    </tr>\n",
       "  </thead>\n",
       "  <tbody>\n",
       "    <tr>\n",
       "      <th>0</th>\n",
       "      <td>14</td>\n",
       "      <td>Male</td>\n",
       "      <td>3.99</td>\n",
       "      <td>Smartphone</td>\n",
       "      <td>True</td>\n",
       "      <td>0.42</td>\n",
       "      <td>Poor Sleep, Eye Strain</td>\n",
       "      <td>Urban</td>\n",
       "      <td>M</td>\n",
       "      <td>Moderate</td>\n",
       "      <td>11-15</td>\n",
       "      <td>1</td>\n",
       "      <td>Q2</td>\n",
       "      <td>0</td>\n",
       "      <td>Teen</td>\n",
       "      <td>Medium</td>\n",
       "    </tr>\n",
       "    <tr>\n",
       "      <th>1</th>\n",
       "      <td>11</td>\n",
       "      <td>Female</td>\n",
       "      <td>4.61</td>\n",
       "      <td>Laptop</td>\n",
       "      <td>True</td>\n",
       "      <td>0.30</td>\n",
       "      <td>Poor Sleep</td>\n",
       "      <td>Urban</td>\n",
       "      <td>F</td>\n",
       "      <td>Moderate</td>\n",
       "      <td>11-15</td>\n",
       "      <td>1</td>\n",
       "      <td>Q3</td>\n",
       "      <td>1</td>\n",
       "      <td>Pre-Teen</td>\n",
       "      <td>Medium</td>\n",
       "    </tr>\n",
       "    <tr>\n",
       "      <th>2</th>\n",
       "      <td>18</td>\n",
       "      <td>Female</td>\n",
       "      <td>3.73</td>\n",
       "      <td>TV</td>\n",
       "      <td>True</td>\n",
       "      <td>0.32</td>\n",
       "      <td>Poor Sleep</td>\n",
       "      <td>Urban</td>\n",
       "      <td>F</td>\n",
       "      <td>Moderate</td>\n",
       "      <td>16-18</td>\n",
       "      <td>1</td>\n",
       "      <td>Q2</td>\n",
       "      <td>0</td>\n",
       "      <td>Teen</td>\n",
       "      <td>Medium</td>\n",
       "    </tr>\n",
       "    <tr>\n",
       "      <th>3</th>\n",
       "      <td>15</td>\n",
       "      <td>Female</td>\n",
       "      <td>1.21</td>\n",
       "      <td>Laptop</td>\n",
       "      <td>False</td>\n",
       "      <td>0.39</td>\n",
       "      <td>NaN</td>\n",
       "      <td>Urban</td>\n",
       "      <td>F</td>\n",
       "      <td>Low</td>\n",
       "      <td>11-15</td>\n",
       "      <td>0</td>\n",
       "      <td>Q1</td>\n",
       "      <td>0</td>\n",
       "      <td>Teen</td>\n",
       "      <td>Low</td>\n",
       "    </tr>\n",
       "    <tr>\n",
       "      <th>4</th>\n",
       "      <td>12</td>\n",
       "      <td>Female</td>\n",
       "      <td>5.89</td>\n",
       "      <td>Smartphone</td>\n",
       "      <td>True</td>\n",
       "      <td>0.49</td>\n",
       "      <td>Poor Sleep, Anxiety</td>\n",
       "      <td>Urban</td>\n",
       "      <td>F</td>\n",
       "      <td>Moderate</td>\n",
       "      <td>11-15</td>\n",
       "      <td>1</td>\n",
       "      <td>Q4</td>\n",
       "      <td>0</td>\n",
       "      <td>Pre-Teen</td>\n",
       "      <td>Medium</td>\n",
       "    </tr>\n",
       "  </tbody>\n",
       "</table>\n",
       "</div>"
      ],
      "text/plain": [
       "   Age  Gender  Avg_Daily_Screen_Time_hr Primary_Device  \\\n",
       "0   14    Male                      3.99     Smartphone   \n",
       "1   11  Female                      4.61         Laptop   \n",
       "2   18  Female                      3.73             TV   \n",
       "3   15  Female                      1.21         Laptop   \n",
       "4   12  Female                      5.89     Smartphone   \n",
       "\n",
       "   Exceeded_Recommended_Limit  Educational_to_Recreational_Ratio  \\\n",
       "0                        True                               0.42   \n",
       "1                        True                               0.30   \n",
       "2                        True                               0.32   \n",
       "3                       False                               0.39   \n",
       "4                        True                               0.49   \n",
       "\n",
       "           Health_Impacts Urban_or_Rural Gender_convert Screen_Time_Category  \\\n",
       "0  Poor Sleep, Eye Strain          Urban              M             Moderate   \n",
       "1              Poor Sleep          Urban              F             Moderate   \n",
       "2              Poor Sleep          Urban              F             Moderate   \n",
       "3                     NaN          Urban              F                  Low   \n",
       "4     Poor Sleep, Anxiety          Urban              F             Moderate   \n",
       "\n",
       "  Age_Group  High_Screen_User Screen_Quartile  Health_Risk Age_Category  \\\n",
       "0     11-15                 1              Q2            0         Teen   \n",
       "1     11-15                 1              Q3            1     Pre-Teen   \n",
       "2     16-18                 1              Q2            0         Teen   \n",
       "3     11-15                 0              Q1            0         Teen   \n",
       "4     11-15                 1              Q4            0     Pre-Teen   \n",
       "\n",
       "  Risk_Level  \n",
       "0     Medium  \n",
       "1     Medium  \n",
       "2     Medium  \n",
       "3        Low  \n",
       "4     Medium  "
      ]
     },
     "execution_count": 161,
     "metadata": {},
     "output_type": "execute_result"
    }
   ],
   "source": [
    "#create risk level column\n",
    "df['Risk_Level'] = pd.cut(df['Avg_Daily_Screen_Time_hr'], bins=[0,3,6,10], labels=['Low','Medium','High'])\n",
    "df.head()"
   ]
  },
  {
   "cell_type": "code",
   "execution_count": null,
   "id": "2106aeae-f0c5-450e-85b0-2b036ea6efb5",
   "metadata": {},
   "outputs": [],
   "source": [
    "7. SQL Simulation in Pandas:"
   ]
  },
  {
   "cell_type": "code",
   "execution_count": 162,
   "id": "7281c073-3ba0-49b2-817d-30421e2a5bb1",
   "metadata": {},
   "outputs": [
    {
     "name": "stdout",
     "output_type": "stream",
     "text": [
      "   Age  Gender  Avg_Daily_Screen_Time_hr Primary_Device  \\\n",
      "0   14    Male                      3.99     Smartphone   \n",
      "1   11  Female                      4.61         Laptop   \n",
      "2   18  Female                      3.73             TV   \n",
      "4   12  Female                      5.89     Smartphone   \n",
      "5   14  Female                      4.88     Smartphone   \n",
      "\n",
      "   Exceeded_Recommended_Limit  Educational_to_Recreational_Ratio  \\\n",
      "0                        True                               0.42   \n",
      "1                        True                               0.30   \n",
      "2                        True                               0.32   \n",
      "4                        True                               0.49   \n",
      "5                        True                               0.44   \n",
      "\n",
      "           Health_Impacts Urban_or_Rural  \n",
      "0  Poor Sleep, Eye Strain          Urban  \n",
      "1              Poor Sleep          Urban  \n",
      "2              Poor Sleep          Urban  \n",
      "4     Poor Sleep, Anxiety          Urban  \n",
      "5              Poor Sleep          Urban  \n"
     ]
    }
   ],
   "source": [
    "#Select all kids with screen_time > 3 hours\n",
    "import pandas as pd\n",
    "df = pd.read_csv(\"c:/Users/DELL/Downloads/Indian_Kids_Screen_Time.csv\", encoding='latin1')\n",
    "kids_gt3 = df[df['Avg_Daily_Screen_Time_hr'] > 3]\n",
    "print(kids_gt3.head())"
   ]
  },
  {
   "cell_type": "code",
   "execution_count": 163,
   "id": "aadb49c0-2d0e-4aeb-86d9-3de30df42ecc",
   "metadata": {},
   "outputs": [
    {
     "name": "stdout",
     "output_type": "stream",
     "text": [
      "\n",
      "Top 10 highest ScreenTime users:\n",
      "      Age  Gender  Avg_Daily_Screen_Time_hr Primary_Device  \\\n",
      "4298   10  Female                     13.89     Smartphone   \n",
      "934    10  Female                     13.01     Smartphone   \n",
      "1769    9    Male                     12.80             TV   \n",
      "1870   10    Male                     12.40     Smartphone   \n",
      "1321   10  Female                     12.09         Tablet   \n",
      "768     8    Male                     11.97         Tablet   \n",
      "2672    8  Female                     11.77     Smartphone   \n",
      "36     10    Male                     11.68             TV   \n",
      "7507    8    Male                     11.50             TV   \n",
      "6227   10  Female                     11.33     Smartphone   \n",
      "\n",
      "      Exceeded_Recommended_Limit  Educational_to_Recreational_Ratio  \\\n",
      "4298                        True                               0.58   \n",
      "934                         True                               0.57   \n",
      "1769                        True                               0.56   \n",
      "1870                        True                               0.52   \n",
      "1321                        True                               0.45   \n",
      "768                         True                               0.43   \n",
      "2672                        True                               0.59   \n",
      "36                          True                               0.47   \n",
      "7507                        True                               0.58   \n",
      "6227                        True                               0.44   \n",
      "\n",
      "           Health_Impacts Urban_or_Rural  \n",
      "4298  Eye Strain, Anxiety          Urban  \n",
      "934   Poor Sleep, Anxiety          Urban  \n",
      "1769  Eye Strain, Anxiety          Rural  \n",
      "1870                  NaN          Urban  \n",
      "1321           Poor Sleep          Urban  \n",
      "768            Poor Sleep          Rural  \n",
      "2672           Poor Sleep          Urban  \n",
      "36             Poor Sleep          Urban  \n",
      "7507                  NaN          Rural  \n",
      "6227           Poor Sleep          Urban  \n"
     ]
    }
   ],
   "source": [
    "#Top 10 highest screen-time users\n",
    "top10_users = df.nlargest(10, 'Avg_Daily_Screen_Time_hr')\n",
    "print(\"\\nTop 10 highest ScreenTime users:\")\n",
    "print(top10_users)"
   ]
  },
  {
   "cell_type": "code",
   "execution_count": 164,
   "id": "b5be800b-526c-4057-b56d-1590cde8adad",
   "metadata": {},
   "outputs": [
    {
     "name": "stdout",
     "output_type": "stream",
     "text": [
      "\n",
      "Sorted by ScreenTime desc, Age asc:\n",
      "      Age  Gender  Avg_Daily_Screen_Time_hr Primary_Device  \\\n",
      "4298   10  Female                     13.89     Smartphone   \n",
      "934    10  Female                     13.01     Smartphone   \n",
      "1769    9    Male                     12.80             TV   \n",
      "1870   10    Male                     12.40     Smartphone   \n",
      "1321   10  Female                     12.09         Tablet   \n",
      "\n",
      "      Exceeded_Recommended_Limit  Educational_to_Recreational_Ratio  \\\n",
      "4298                        True                               0.58   \n",
      "934                         True                               0.57   \n",
      "1769                        True                               0.56   \n",
      "1870                        True                               0.52   \n",
      "1321                        True                               0.45   \n",
      "\n",
      "           Health_Impacts Urban_or_Rural  \n",
      "4298  Eye Strain, Anxiety          Urban  \n",
      "934   Poor Sleep, Anxiety          Urban  \n",
      "1769  Eye Strain, Anxiety          Rural  \n",
      "1870                  NaN          Urban  \n",
      "1321           Poor Sleep          Urban  \n"
     ]
    }
   ],
   "source": [
    "#Sort by screen_time desc, then by age asc\n",
    "if 'Age' in df.columns:\n",
    "    sorted_kids = df.sort_values(by=['Avg_Daily_Screen_Time_hr', 'Age'], ascending=[False, True])\n",
    "    print(\"\\nSorted by ScreenTime desc, Age asc:\")\n",
    "    print(sorted_kids.head())"
   ]
  },
  {
   "cell_type": "code",
   "execution_count": 165,
   "id": "21ce9558-26d3-4e72-ab5c-7a51bdb5b79b",
   "metadata": {},
   "outputs": [
    {
     "name": "stdout",
     "output_type": "stream",
     "text": [
      "\n",
      "Count in High_Screen_User group:\n",
      "High_Screen_User\n",
      "1    7959\n",
      "0    1753\n",
      "Name: count, dtype: int64\n"
     ]
    }
   ],
   "source": [
    "#Count number of kids in High_Screen_User group\n",
    "df['High_Screen_User'] = (df['Avg_Daily_Screen_Time_hr'] > 3).astype(int)\n",
    "print(\"\\nCount in High_Screen_User group:\")\n",
    "print(df['High_Screen_User'].value_counts())\n"
   ]
  },
  {
   "cell_type": "code",
   "execution_count": 167,
   "id": "f4082842-06af-4d98-816b-97183af6fbb4",
   "metadata": {},
   "outputs": [
    {
     "name": "stdout",
     "output_type": "stream",
     "text": [
      "\n",
      "Average ScreenTime per Age_Group:\n",
      "Age_Group\n",
      "5-10     3.925049\n",
      "11-15    4.501944\n",
      "16-18    4.537803\n",
      "Name: Avg_Daily_Screen_Time_hr, dtype: float64\n"
     ]
    }
   ],
   "source": [
    "# Average screen_time per Age_Group\n",
    "if 'Age' in df.columns:\n",
    "    df['Age_Group'] = pd.cut(df['Age'], bins=[4,10,15,18], labels=[\"5-10\",\"11-15\",\"16-18\"])\n",
    "    print(\"\\nAverage ScreenTime per Age_Group:\")\n",
    "    print(df.groupby('Age_Group', observed=False)['Avg_Daily_Screen_Time_hr'].mean())\n"
   ]
  },
  {
   "cell_type": "code",
   "execution_count": null,
   "id": "e9f9c665-275b-4c32-bc1b-1f63642668fe",
   "metadata": {},
   "outputs": [],
   "source": [
    "8. Insights:"
   ]
  },
  {
   "cell_type": "code",
   "execution_count": 168,
   "id": "c3bdc53b-6192-45a8-af29-2298149d813d",
   "metadata": {},
   "outputs": [
    {
     "name": "stdout",
     "output_type": "stream",
     "text": [
      "81.95%\n"
     ]
    }
   ],
   "source": [
    "#Percentage of kids who are high screen-time users (>3 hrs)\n",
    "df['High_Screen_User'] = (df['Avg_Daily_Screen_Time_hr'] > 3).astype(int)\n",
    "percent_high = df['High_Screen_User'].mean() * 100\n",
    "print(f\"{percent_high:.2f}%\")"
   ]
  },
  {
   "cell_type": "code",
   "execution_count": 169,
   "id": "2cc5dcb2-e470-42c0-b123-21e0b8a8173f",
   "metadata": {},
   "outputs": [
    {
     "name": "stdout",
     "output_type": "stream",
     "text": [
      "\n",
      "2) Avg Screen Time (<12 yrs): 4.07 hrs, (>=12 yrs): 4.52 hrs\n"
     ]
    }
   ],
   "source": [
    "# Younger kids (<12) vs older kids (>=12)\n",
    "young_avg = df[df['Age'] < 12]['Avg_Daily_Screen_Time_hr'].mean()\n",
    "old_avg = df[df['Age'] >= 12]['Avg_Daily_Screen_Time_hr'].mean()\n",
    "print(f\"\\n2) Avg Screen Time (<12 yrs): {young_avg:.2f} hrs, (>=12 yrs): {old_avg:.2f} hrs\")"
   ]
  },
  {
   "cell_type": "code",
   "execution_count": 170,
   "id": "31f31677-8e68-4c2f-bcc8-19910243be50",
   "metadata": {},
   "outputs": [
    {
     "name": "stdout",
     "output_type": "stream",
     "text": [
      "Gender\n",
      "Female    4.327021\n",
      "Male      4.377754\n",
      "Name: Avg_Daily_Screen_Time_hr, dtype: float64\n"
     ]
    }
   ],
   "source": [
    "# Screen time difference between boys and girls\n",
    "gender_avg = df.groupby('Gender')['Avg_Daily_Screen_Time_hr'].mean()\n",
    "print(gender_avg)"
   ]
  },
  {
   "cell_type": "code",
   "execution_count": 172,
   "id": "0865d577-278b-4063-8f8e-70d265ea9f5a",
   "metadata": {},
   "outputs": [
    {
     "name": "stdout",
     "output_type": "stream",
     "text": [
      "4.24 hrs\n"
     ]
    }
   ],
   "source": [
    "#  Gap between top quartile and bottom quartile screen-time users\n",
    "df['Screen_Quartile'] = pd.qcut(df['Avg_Daily_Screen_Time_hr'], 4, labels=[\"Q1\",\"Q2\",\"Q3\",\"Q4\"])\n",
    "quartile_avg = df.groupby('Screen_Quartile', observed=False)['Avg_Daily_Screen_Time_hr'].mean()\n",
    "gap = quartile_avg['Q4'] - quartile_avg['Q1']\n",
    "print(f\"{gap:.2f} hrs\")"
   ]
  },
  {
   "cell_type": "code",
   "execution_count": null,
   "id": "334ed6a8-d5ce-46e7-96ab-ba9351170163",
   "metadata": {},
   "outputs": [],
   "source": [
    "# Highest screen-time users concentrated in a particular age group?\n",
    "top_users = df.nlargest(10, 'Avg_Daily_Screen_Time_hr')\n",
    "age_dist = top_users['Age'].value_counts()\n",
    "print(age_dist)"
   ]
  }
 ],
 "metadata": {
  "kernelspec": {
   "display_name": "Python 3 (ipykernel)",
   "language": "python",
   "name": "python3"
  },
  "language_info": {
   "codemirror_mode": {
    "name": "ipython",
    "version": 3
   },
   "file_extension": ".py",
   "mimetype": "text/x-python",
   "name": "python",
   "nbconvert_exporter": "python",
   "pygments_lexer": "ipython3",
   "version": "3.13.5"
  }
 },
 "nbformat": 4,
 "nbformat_minor": 5
}
